{
 "cells": [
  {
   "cell_type": "code",
   "execution_count": 1,
   "metadata": {},
   "outputs": [],
   "source": [
    "%run DataProcessor.ipynb\n",
    "dp = DataProcessor()"
   ]
  },
  {
   "cell_type": "code",
   "execution_count": 2,
   "metadata": {},
   "outputs": [
    {
     "name": "stdout",
     "output_type": "stream",
     "text": [
      "[<Blob: tbrain-tsmc, data/YUSUN.zip/YUSUN/textFiles/, 1592736305438990>, <Blob: tbrain-tsmc, data/YUSUN.zip/YUSUN/textFiles/0.txt, 1592736305513587>, <Blob: tbrain-tsmc, data/YUSUN.zip/YUSUN/textFiles/1.txt, 1592736305545232>, <Blob: tbrain-tsmc, data/YUSUN.zip/YUSUN/textFiles/10.txt, 1592736305776176>, <Blob: tbrain-tsmc, data/YUSUN.zip/YUSUN/textFiles/100.txt, 1592736308405726>, <Blob: tbrain-tsmc, data/YUSUN.zip/YUSUN/textFiles/1000.txt, 1592736335848803>, <Blob: tbrain-tsmc, data/YUSUN.zip/YUSUN/textFiles/1001.txt, 1592736456419745>, <Blob: tbrain-tsmc, data/YUSUN.zip/YUSUN/textFiles/1002.txt, 1592736335876369>, <Blob: tbrain-tsmc, data/YUSUN.zip/YUSUN/textFiles/1003.txt, 1592736456454342>, <Blob: tbrain-tsmc, data/YUSUN.zip/YUSUN/textFiles/1004.txt, 1592736335903209>]\n"
     ]
    }
   ],
   "source": [
    "# 顯示存放爬蟲後的文字json所有檔案\n",
    "dp.show_files(max_results_=10) #總共N筆數"
   ]
  },
  {
   "cell_type": "code",
   "execution_count": 3,
   "metadata": {},
   "outputs": [
    {
     "data": {
      "text/plain": [
       "{'title': '量化交易追求絕對報酬 有效對抗牛熊市',\n",
       " 'context': '近年來投資市場波動越來越明顯，追求低波動、絕對報酬的量化交易備受注目。專家表示，採用量化交易策略投資台股，不管是處於多頭或是空頭市場，績效及波動度均可領跑大盤，甚至比國內投資台股的股票型基金及 ETF 的波動率還低，表現也更為穩定。\\n大數據時代來臨，風行歐美 50 年的量化交易儼然成為顯學，台灣亦開始重視此一趨勢發展，也因此，中華機率統計學會及台北科技大學管理學院攜手主辦，並由元大期貨、摩根亞太量化交易等公司擔任協辦單位，今 (7/5) 日舉辦「時間序列與量化交易研討會」，就目前熱門的量化交易、智能投資等相關議題進行研討。\\n越來越多的基金公司重視量化交易，全球規模較大的避險基金多採行量化交易，包括橋水基金 (Bridgewater Associates)、AQR 資產管理公司、曼氏集團 (Man Group)、文藝復興科技 (Renaissance Technologies) 等全球知名避險基金。摩根亞太集團董事長張堯勇指出，避險基金規模約為 5 兆美元，採取量化交易的基金規模約 1 兆美元，比重佔了 20%，代表量化交易的操作績效好，才會有那麼高的比重。\\n\\n量化交易的操作績效不亞於價值投資及技術投資，被譽為數學天才、最賺錢的基金經理人，文藝復興對沖基金創始人詹姆斯 · 西蒙斯 (James Simons) 所管理的大獎章 (Medallion) 基金，便是典型的量化交易，績效表現優異，不僅勝過索羅斯的量子基金，也打敗了股神巴菲特的價值投資。\\n近年來台灣也逐漸重視量化交易，摩根亞太量化交易公司今年開始將量化交易引進台股投資，是國內首家推出量化交易策略的公司，初期對象鎖定法人機構，進行私募投資。張堯勇表示，數學不只是一門學科，更是一項扭轉乾坤、轉敗為勝的競爭利器，量化交易就是將數學運用在股市投資，透過複雜、精密的推理計算，打敗股市。\\n他指出，目前全球利率水平 50 位於年來新低，美國十年期公債殖利率只有 2%，日本及一些歐洲國家甚至是負利率。歷史極低利率帶導致無風險及低風險工具的投資報酬率太低（例如：銀行存款、政府公債及投資等級公司債），無法對抗通貨膨脹及支付負債，所以資產配置必須增加較高風險的投資，如股票、高收益公司債或新興市場債券，但是這些投資工具波動很大，而且很容易產生虧損！\\n他表示，長期來說，股市絕對是好的投資，報酬率也不差，但是如何選股是一門學問。目前全球 60 個主要股市交易所，總市值 70 兆美元，而台灣上市上櫃市值 35 兆台幣，面對全球及台灣最大的股市金礦，投資人應該善用「量化交易」這個超級挖礦機，以程式選股來掏金。\\n張堯勇指出，量化投資具有低波動、絕對報酬、優於大盤的三大特點，摩根亞太量化交易模擬台股近 8 年來的績效，結果顯示，運用量化交易的年化報酬率及波動度均優於台股上市櫃指數，以 2011 年金融海嘯及 2018 年中美貿易戰為例，台股上市、上櫃指數均是負報酬，不過，摩根量化交易卻是正報酬，而且波動度也比較低。\\n此外，由於台灣四大政府基金操作績效不彰，不少金融機構也面臨投資虧損問題，亦可透過量化交易提高投資報酬率。張堯勇指出，郵儲、勞退、勞保、及退撫等四大基金，總資產高達 10 兆台幣，但過去 10 年的投資報酬率不到 3%，去年虧損 120 億，面臨提早破產的風險！\\n另外台灣保險公司的總資產高達 26 兆台幣，過去賣出去的保單利率高達 4-6%，但是去年的資產報酬率卻只不到 0.4%，而且去年綜合損益虧損高達 5,000 億！金管會連下三道金牌：所有保險公司今年不準發放現金股利、部分保險公司必須儘快舉辦現金增資、以後賣的保單利率必須下降。另外台灣全體商業銀行也有高達 43 兆的總資產 43 兆，但是其資產報酬率僅只有 0.7%。\\n以上將近 80 兆台幣的資金，張堯勇指出，若將 10% 投資於股市，投資金額高達 8 兆，報酬率每增加 1%，就有 800 億元的獲利，對於台灣的國家財政或金融機構的獲利，都有非常巨大的助益。\\n'}"
      ]
     },
     "execution_count": 3,
     "metadata": {},
     "output_type": "execute_result"
    }
   ],
   "source": [
    "import json\n",
    "content = dp.get_blob('data/YUSUN.zip/YUSUN/textFiles/0.txt')\n",
    "#讀取JSON使用\n",
    "d = json.loads(content)\n",
    "d\n",
    "# 讀取CSV使用\n",
    "# df = pd.read_csv(BytesIO(content))"
   ]
  },
  {
   "cell_type": "code",
   "execution_count": 4,
   "metadata": {},
   "outputs": [
    {
     "name": "stdout",
     "output_type": "stream",
     "text": [
      "File ./assert/tbrain_train_final_0610.csv uploaded to data/.\n"
     ]
    }
   ],
   "source": [
    "# source_file_name: 上傳檔案名稱\n",
    "# destination_file_name: 存放 .data/ 檔案名稱\n",
    "# 上傳檔案會放置 gs://tbrain-tsmc/data\n",
    "dp.upload_blob(source_file_name='./assert/tbrain_train_final_0610.csv', destination_file_name='tbrain_train_final_0610.csv')"
   ]
  },
  {
   "cell_type": "code",
   "execution_count": 5,
   "metadata": {},
   "outputs": [
    {
     "name": "stdout",
     "output_type": "stream",
     "text": [
      "File data/./assert/tbrain_train_final_0610.csv doesn't exist.\n"
     ]
    }
   ],
   "source": [
    "# source_file_name: 刪除檔案名稱\n",
    "# 刪除此目錄檔案 gs://tbrain-tsmc/data\n",
    "dp.delete_file(source_file_name='./assert/tbrain_train_final_0610.csv')"
   ]
  },
  {
   "cell_type": "code",
   "execution_count": 6,
   "metadata": {},
   "outputs": [
    {
     "name": "stdout",
     "output_type": "stream",
     "text": [
      "File data/tbrain_train_final_0610.csv id deleted successfully.\n"
     ]
    }
   ],
   "source": [
    "dp.delete_file(source_file_name='tbrain_train_final_0610.csv')"
   ]
  },
  {
   "cell_type": "code",
   "execution_count": 7,
   "metadata": {},
   "outputs": [],
   "source": [
    "# 整合所有的json file \n",
    "# 整合對應 gs://tbrain-tsmc/data/YUSUN.zip/YUSUN/textFiles/\n",
    "# dp.combine_all_file()"
   ]
  },
  {
   "cell_type": "code",
   "execution_count": 8,
   "metadata": {},
   "outputs": [
    {
     "data": {
      "text/plain": [
       "5023"
      ]
     },
     "execution_count": 8,
     "metadata": {},
     "output_type": "execute_result"
    }
   ],
   "source": [
    "# 資料前後資料夾 gs://tbrain-tsmc/training_data/\n",
    "# 得所有內文: 訓練文本可透過此method取\n",
    "contexts = dp.get_all_context('training_data/tbrain_train_title_context.txt')\n",
    "len(contexts)"
   ]
  },
  {
   "cell_type": "code",
   "execution_count": 9,
   "metadata": {},
   "outputs": [
    {
     "data": {
      "text/plain": [
       "'近年來投資市場波動越來越明顯，追求低波動、絕對報酬的量化交易備受注目。專家表示，採用量化交易策略投資台股，不管是處於多頭或是空頭市場，績效及波動度均可領跑大盤，甚至比國內投資台股的股票型基金及 ETF 的波動率還低，表現也更為穩定。大數據時代來臨，風行歐美 50 年的量化交易儼然成為顯學，台灣亦開始重視此一趨勢發展，也因此，中華機率統計學會及台北科技大學管理學院攜手主辦，並由元大期貨、摩根亞太量化交易等公司擔任協辦單位，今 (7/5) 日舉辦「時間序列與量化交易研討會」，就目前熱門的量化交易、智能投資等相關議題進行研討。越來越多的基金公司重視量化交易，全球規模較大的避險基金多採行量化交易，包括橋水基金 (Bridgewater Associates)、AQR 資產管理公司、曼氏集團 (Man Group)、文藝復興科技 (Renaissance Technologies) 等全球知名避險基金。摩根亞太集團董事長張堯勇指出，避險基金規模約為 5 兆美元，採取量化交易的基金規模約 1 兆美元，比重佔了 20%，代表量化交易的操作績效好，才會有那麼高的比重。量化交易的操作績效不亞於價值投資及技術投資，被譽為數學天才、最賺錢的基金經理人，文藝復興對沖基金創始人詹姆斯 · 西蒙斯 (James Simons) 所管理的大獎章 (Medallion) 基金，便是典型的量化交易，績效表現優異，不僅勝過索羅斯的量子基金，也打敗了股神巴菲特的價值投資。近年來台灣也逐漸重視量化交易，摩根亞太量化交易公司今年開始將量化交易引進台股投資，是國內首家推出量化交易策略的公司，初期對象鎖定法人機構，進行私募投資。張堯勇表示，數學不只是一門學科，更是一項扭轉乾坤、轉敗為勝的競爭利器，量化交易就是將數學運用在股市投資，透過複雜、精密的推理計算，打敗股市。他指出，目前全球利率水平 50 位於年來新低，美國十年期公債殖利率只有 2%，日本及一些歐洲國家甚至是負利率。歷史極低利率帶導致無風險及低風險工具的投資報酬率太低（例如：銀行存款、政府公債及投資等級公司債），無法對抗通貨膨脹及支付負債，所以資產配置必須增加較高風險的投資，如股票、高收益公司債或新興市場債券，但是這些投資工具波動很大，而且很容易產生虧損！他表示，長期來說，股市絕對是好的投資，報酬率也不差，但是如何選股是一門學問。目前全球 60 個主要股市交易所，總市值 70 兆美元，而台灣上市上櫃市值 35 兆台幣，面對全球及台灣最大的股市金礦，投資人應該善用「量化交易」這個超級挖礦機，以程式選股來掏金。張堯勇指出，量化投資具有低波動、絕對報酬、優於大盤的三大特點，摩根亞太量化交易模擬台股近 8 年來的績效，結果顯示，運用量化交易的年化報酬率及波動度均優於台股上市櫃指數，以 2011 年金融海嘯及 2018 年中美貿易戰為例，台股上市、上櫃指數均是負報酬，不過，摩根量化交易卻是正報酬，而且波動度也比較低。此外，由於台灣四大政府基金操作績效不彰，不少金融機構也面臨投資虧損問題，亦可透過量化交易提高投資報酬率。張堯勇指出，郵儲、勞退、勞保、及退撫等四大基金，總資產高達 10 兆台幣，但過去 10 年的投資報酬率不到 3%，去年虧損 120 億，面臨提早破產的風險！另外台灣保險公司的總資產高達 26 兆台幣，過去賣出去的保單利率高達 4-6%，但是去年的資產報酬率卻只不到 0.4%，而且去年綜合損益虧損高達 5,000 億！金管會連下三道金牌：所有保險公司今年不準發放現金股利、部分保險公司必須儘快舉辦現金增資、以後賣的保單利率必須下降。另外台灣全體商業銀行也有高達 43 兆的總資產 43 兆，但是其資產報酬率僅只有 0.7%。以上將近 80 兆台幣的資金，張堯勇指出，若將 10% 投資於股市，投資金額高達 8 兆，報酬率每增加 1%，就有 800 億元的獲利，對於台灣的國家財政或金融機構的獲利，都有非常巨大的助益。'"
      ]
     },
     "execution_count": 9,
     "metadata": {},
     "output_type": "execute_result"
    }
   ],
   "source": [
    "contexts = [dp.preprocessing(context) for context in contexts]\n",
    "contexts[0]"
   ]
  },
  {
   "cell_type": "code",
   "execution_count": 10,
   "metadata": {},
   "outputs": [
    {
     "data": {
      "text/plain": [
       "'量化交易追求絕對報酬 有效對抗牛熊市'"
      ]
     },
     "execution_count": 10,
     "metadata": {},
     "output_type": "execute_result"
    }
   ],
   "source": [
    "# 資料前後資料夾 gs://tbrain-tsmc/training_data/\n",
    "# 取得所有標題\n",
    "title = dp.get_all_title('training_data/tbrain_train_title_context.txt')\n",
    "title[0]"
   ]
  },
  {
   "cell_type": "code",
   "execution_count": 11,
   "metadata": {},
   "outputs": [
    {
     "data": {
      "text/plain": [
       "\"['周麗真', '張志偉', '陳逢璿']\""
      ]
     },
     "execution_count": 11,
     "metadata": {},
     "output_type": "execute_result"
    }
   ],
   "source": [
    "# 資料前後資料夾 gs://tbrain-tsmc/training_data/\n",
    "# 取得所有標題\n",
    "name = dp.get_all_name('training_data/tbrain_train_title_context.txt')\n",
    "name[14]"
   ]
  },
  {
   "cell_type": "code",
   "execution_count": 12,
   "metadata": {},
   "outputs": [
    {
     "data": {
      "text/plain": [
       "'近年來投資市場波動越來越明顯，追求低波動、絕對報酬的量化交易備受注目。專家表示，採用量化交易策略投資台股，不管是處於多頭或是空頭市場，績效及波動度均可領跑大盤，甚至比國內投資台股的股票型基金及 ETF 的波動率還低，表現也更為穩定。大數據時代來臨，風行歐美 50 年的量化交易儼然成為顯學，台灣亦開始重視此一趨勢發展，也因此，中華機率統計學會及台北科技大學管理學院攜手主辦，並由元大期貨、摩根亞太量化交易等公司擔任協辦單位，今 (7/5) 日舉辦「時間序列與量化交易研討會」，就目前熱門的量化交易、智能投資等相關議題進行研討。越來越多的基金公司重視量化交易，全球規模較大的避險基金多採行量化交易，包括橋水基金 (Bridgewater Associates)、AQR 資產管理公司、曼氏集團 (Man Group)、文藝復興科技 (Renaissance Technologies) 等全球知名避險基金。摩根亞太集團董事長張堯勇指出，避險基金規模約為 5 兆美元，採取量化交易的基金規模約 1 兆美元，比重佔了 20%，代表量化交易的操作績效好，才會有那麼高的比重。量化交易的操作績效不亞於價值投資及技術投資，被譽為數學天才、最賺錢的基金經理人，文藝復興對沖基金創始人詹姆斯 · 西蒙斯 (James Simons) 所管理的大獎章 (Medallion) 基金，便是典型的量化交易，績效表現優異，不僅勝過索羅斯的量子基金，也打敗了股神巴菲特的價值投資。近年來台灣也逐漸重視量化交易，摩根亞太量化交易公司今年開始將量化交易引進台股投資，是國內首家推出量化交易策略的公司，初期對象鎖定法人機構，進行私募投資。張堯勇表示，數學不只是一門學科，更是一項扭轉乾坤、轉敗為勝的競爭利器，量化交易就是將數學運用在股市投資，透過複雜、精密的推理計算，打敗股市。他指出，目前全球利率水平 50 位於年來新低，美國十年期公債殖利率只有 2%，日本及一些歐洲國家甚至是負利率。歷史極低利率帶導致無風險及低風險工具的投資報酬率太低（例如：銀行存款、政府公債及投資等級公司債），無法對抗通貨膨脹及支付負債，所以資產配置必須增加較高風險的投資，如股票、高收益公司債或新興市場債券，但是這些投資工具波動很大，而且很容易產生虧損！他表示，長期來說，股市絕對是好的投資，報酬率也不差，但是如何選股是一門學問。目前全球 60 個主要股市交易所，總市值 70 兆美元，而台灣上市上櫃市值 35 兆台幣，面對全球及台灣最大的股市金礦，投資人應該善用「量化交易」這個超級挖礦機，以程式選股來掏金。張堯勇指出，量化投資具有低波動、絕對報酬、優於大盤的三大特點，摩根亞太量化交易模擬台股近 8 年來的績效，結果顯示，運用量化交易的年化報酬率及波動度均優於台股上市櫃指數，以 2011 年金融海嘯及 2018 年中美貿易戰為例，台股上市、上櫃指數均是負報酬，不過，摩根量化交易卻是正報酬，而且波動度也比較低。此外，由於台灣四大政府基金操作績效不彰，不少金融機構也面臨投資虧損問題，亦可透過量化交易提高投資報酬率。張堯勇指出，郵儲、勞退、勞保、及退撫等四大基金，總資產高達 10 兆台幣，但過去 10 年的投資報酬率不到 3%，去年虧損 120 億，面臨提早破產的風險！另外台灣保險公司的總資產高達 26 兆台幣，過去賣出去的保單利率高達 4-6%，但是去年的資產報酬率卻只不到 0.4%，而且去年綜合損益虧損高達 5,000 億！金管會連下三道金牌：所有保險公司今年不準發放現金股利、部分保險公司必須儘快舉辦現金增資、以後賣的保單利率必須下降。另外台灣全體商業銀行也有高達 43 兆的總資產 43 兆，但是其資產報酬率僅只有 0.7%。以上將近 80 兆台幣的資金，張堯勇指出，若將 10% 投資於股市，投資金額高達 8 兆，報酬率每增加 1%，就有 800 億元的獲利，對於台灣的國家財政或金融機構的獲利，都有非常巨大的助益。'"
      ]
     },
     "execution_count": 12,
     "metadata": {},
     "output_type": "execute_result"
    }
   ],
   "source": [
    "# 資料前後資料夾 gs://tbrain-tsmc/training_data/\n",
    "# 取得所有資料\n",
    "titles, names, contexts = dp.get_all('training_data/tbrain_train_title_context.txt')\n",
    "contexts[0]"
   ]
  },
  {
   "cell_type": "code",
   "execution_count": 13,
   "metadata": {},
   "outputs": [
    {
     "name": "stdout",
     "output_type": "stream",
     "text": [
      "å¤©æ´ä¹¾ç¥ãæé«æ°£æº«32åº¦ (08:32) - 20191005 - æ¸¯è - å³ææ°è - æå ±æ°èç¶²\n",
      "éå»ä¸å°æï¼äº¬å£«æéå¾çå¹³åç´«å¤ç·ææ¸æ¯0.5ï¼å¼·åº¦å±¬æ¼ä½ãç«ç½å±éªè­¦åçºé»è²ï¼è¡¨ç¤ºç«ç½å±éªæ§é é«ãè¦èè¯åçé«ç©ºåæ°£ææ­£çºè©²åå¸¶ä¾æ®éæ´æçå¤©æ°£ãé æ¸¬ä»æ¥å¤©æ´çç±ï¼æ¥éä¹¾ç¥ï¼å¸åæé«æ°£æº«ç´32åº¦ï¼æ°çåé«ä¸å",
      "©åº¦ï¼å¹è¼å¾®è³åç·©åæ±é¢¨ãå±æææ¥åéé½ç¯æé©é¨ï¼é¢¨å¢è¼å¤§ï¼å¤©æ°£ç¨æ¶¼ã \n"
     ]
    }
   ],
   "source": [
    "titles, names, contexts = dp.get_all('training_data/tbrain_train_title_context.txt', False)\n",
    "print(titles[19])\n",
    "print(contexts[19])"
   ]
  },
  {
   "cell_type": "code",
   "execution_count": 14,
   "metadata": {},
   "outputs": [
    {
     "name": "stdout",
     "output_type": "stream",
     "text": [
      "天晴乾燥　最高氣溫32度 (08:32) - 20191005 - 港聞 - 即時新聞 - 明報新聞網\n",
      "過去一小時，京士柏錄得的平均紫外線指數是0.5，強度屬於低。火災危險警告為黃色，表示火災危險性頗高。覆蓋華南的高空反氣旋正為該區帶來普遍晴朗的天氣。預測今日天晴炎熱，日間乾燥，市區最高氣溫約32度，新界再高一兩度，吹輕微至和緩偏東風。展望明日及重陽節有驟雨，風勢較大，天氣稍涼。\n"
     ]
    }
   ],
   "source": [
    "titles, names, contexts = dp.get_all('training_data/tbrain_train_title_context.txt', True)\n",
    "print(titles[19])\n",
    "print(contexts[19])"
   ]
  },
  {
   "cell_type": "code",
   "execution_count": 15,
   "metadata": {},
   "outputs": [],
   "source": [
    "# 自行定義輸出檔案格式 (如果不用GS的話)\n",
    "with open('test.txt', 'w') as f:\n",
    "    for i, context in enumerate(contexts):\n",
    "        f.write(titles[i])\n",
    "        f.write('\\n')\n",
    "        f.write(names[i])\n",
    "        f.write('\\n')\n",
    "        f.write(context)\n",
    "        f.write('\\n')\n",
    "        f.write('---')\n",
    "        f.write('\\n')"
   ]
  },
  {
   "cell_type": "code",
   "execution_count": 16,
   "metadata": {},
   "outputs": [
    {
     "name": "stdout",
     "output_type": "stream",
     "text": [
      "5023\n",
      "9648\n"
     ]
    }
   ],
   "source": [
    "from transformers import *\n",
    "import ast\n",
    "\n",
    "tokenizer = BertTokenizer.from_pretrained('bert-base-chinese')\n",
    "titles, names, contexts = dp.get_all('training_data/tbrain_train_title_context.txt')\n",
    "\n",
    "max_len = 512\n",
    "\n",
    "contents_slice = []\n",
    "roles_slice = []\n",
    "\n",
    "for i in range(len(contexts)):\n",
    "    content = titles[i] + contexts[i]\n",
    "    content_token = tokenizer.tokenize(content)\n",
    "    \n",
    "    part = len(content_token)//max_len\n",
    "    j = 0\n",
    "    while j < part:\n",
    "        roles_slice.append(names[i])\n",
    "        contents_slice.append(''.join(content_token[max_len*j: max_len*(j+1)]))\n",
    "        j += 1\n",
    "    \n",
    "    roles_slice.append(names[i])\n",
    "    contents_slice.append(''.join(content_token[max_len*j:]))\n",
    "    \n",
    "print(len(contexts))\n",
    "print(len(contents_slice))"
   ]
  },
  {
   "cell_type": "code",
   "execution_count": 17,
   "metadata": {},
   "outputs": [
    {
     "data": {
      "text/plain": [
       "9648"
      ]
     },
     "execution_count": 17,
     "metadata": {},
     "output_type": "execute_result"
    }
   ],
   "source": [
    "len(roles_slice)"
   ]
  },
  {
   "cell_type": "code",
   "execution_count": 18,
   "metadata": {},
   "outputs": [
    {
     "data": {
      "text/html": [
       "<div>\n",
       "<style scoped>\n",
       "    .dataframe tbody tr th:only-of-type {\n",
       "        vertical-align: middle;\n",
       "    }\n",
       "\n",
       "    .dataframe tbody tr th {\n",
       "        vertical-align: top;\n",
       "    }\n",
       "\n",
       "    .dataframe thead th {\n",
       "        text-align: right;\n",
       "    }\n",
       "</style>\n",
       "<table border=\"1\" class=\"dataframe\">\n",
       "  <thead>\n",
       "    <tr style=\"text-align: right;\">\n",
       "      <th></th>\n",
       "      <th>Content</th>\n",
       "      <th>Role</th>\n",
       "    </tr>\n",
       "  </thead>\n",
       "  <tbody>\n",
       "    <tr>\n",
       "      <th>0</th>\n",
       "      <td>量化交易追求絕對報酬有效對抗牛熊市近年來投資市場波動越來越明顯，追求低波動、絕對報酬的量化交...</td>\n",
       "      <td>[]</td>\n",
       "    </tr>\n",
       "    <tr>\n",
       "      <th>1</th>\n",
       "      <td>易，績效表現優異，不僅勝過索羅斯的量子基金，也打敗了股神巴菲特的價值投資。近年來台灣也逐漸重...</td>\n",
       "      <td>[]</td>\n",
       "    </tr>\n",
       "    <tr>\n",
       "      <th>2</th>\n",
       "      <td>交易模擬台股近8年來的績效，結果顯示，運用量化交易的年化報酬率及波動度均優於台股上市櫃指數，...</td>\n",
       "      <td>[]</td>\n",
       "    </tr>\n",
       "    <tr>\n",
       "      <th>3</th>\n",
       "      <td>外送員死亡未通報北市勞動局開罰[UNK][UNK]30萬10月13日晚間發生[UNK][UN...</td>\n",
       "      <td>[]</td>\n",
       "    </tr>\n",
       "    <tr>\n",
       "      <th>4</th>\n",
       "      <td>重影響公共秩序，受責難程度高，依行政罰法、職業安全衛生法裁處罰鍰30萬元。勞動局職安科表示，...</td>\n",
       "      <td>[]</td>\n",
       "    </tr>\n",
       "    <tr>\n",
       "      <th>...</th>\n",
       "      <td>...</td>\n",
       "      <td>...</td>\n",
       "    </tr>\n",
       "    <tr>\n",
       "      <th>9643</th>\n",
       "      <td>【華冠投顧】[UNK]轉強小樹走高[UNK]持續向上推進，今天的好消息是，最快在兩週內，美方...</td>\n",
       "      <td>[]</td>\n",
       "    </tr>\n",
       "    <tr>\n",
       "      <th>9644</th>\n",
       "      <td></td>\n",
       "      <td>[]</td>\n",
       "    </tr>\n",
       "    <tr>\n",
       "      <th>9645</th>\n",
       "      <td>雙子星案法律戰南海團隊敗陣中大特史上金額最大開發案「台北雙子星」最優申請人「南海團隊」香港商...</td>\n",
       "      <td>[]</td>\n",
       "    </tr>\n",
       "    <tr>\n",
       "      <th>9646</th>\n",
       "      <td>由次優申請人遞補的危險，繫於相對人北市府和北市捷運局對投審會駁回投資申請決定，是否可歸責於南...</td>\n",
       "      <td>[]</td>\n",
       "    </tr>\n",
       "    <tr>\n",
       "      <th>9647</th>\n",
       "      <td>影/今年上半年三大股票期貨交易策略最賺錢全球投資市場操作難度升高，群益期貨副總經理黃維本建議...</td>\n",
       "      <td>[]</td>\n",
       "    </tr>\n",
       "  </tbody>\n",
       "</table>\n",
       "<p>9648 rows × 2 columns</p>\n",
       "</div>"
      ],
      "text/plain": [
       "                                                Content Role\n",
       "0     量化交易追求絕對報酬有效對抗牛熊市近年來投資市場波動越來越明顯，追求低波動、絕對報酬的量化交...   []\n",
       "1     易，績效表現優異，不僅勝過索羅斯的量子基金，也打敗了股神巴菲特的價值投資。近年來台灣也逐漸重...   []\n",
       "2     交易模擬台股近8年來的績效，結果顯示，運用量化交易的年化報酬率及波動度均優於台股上市櫃指數，...   []\n",
       "3     外送員死亡未通報北市勞動局開罰[UNK][UNK]30萬10月13日晚間發生[UNK][UN...   []\n",
       "4     重影響公共秩序，受責難程度高，依行政罰法、職業安全衛生法裁處罰鍰30萬元。勞動局職安科表示，...   []\n",
       "...                                                 ...  ...\n",
       "9643  【華冠投顧】[UNK]轉強小樹走高[UNK]持續向上推進，今天的好消息是，最快在兩週內，美方...   []\n",
       "9644                                                      []\n",
       "9645  雙子星案法律戰南海團隊敗陣中大特史上金額最大開發案「台北雙子星」最優申請人「南海團隊」香港商...   []\n",
       "9646  由次優申請人遞補的危險，繫於相對人北市府和北市捷運局對投審會駁回投資申請決定，是否可歸責於南...   []\n",
       "9647  影/今年上半年三大股票期貨交易策略最賺錢全球投資市場操作難度升高，群益期貨副總經理黃維本建議...   []\n",
       "\n",
       "[9648 rows x 2 columns]"
      ]
     },
     "execution_count": 18,
     "metadata": {},
     "output_type": "execute_result"
    }
   ],
   "source": [
    "import numpy as np \n",
    "import pandas as pd\n",
    "\n",
    "d = np.column_stack((contents_slice, roles_slice))\n",
    "df = pd.DataFrame(data=d, columns=[\"Content\", \"Role\"])\n",
    "df"
   ]
  },
  {
   "cell_type": "code",
   "execution_count": 19,
   "metadata": {},
   "outputs": [],
   "source": [
    "df.to_csv('./train_slice.csv', index=False)"
   ]
  }
 ],
 "metadata": {
  "environment": {
   "name": "tf2-gpu.2-1.m49",
   "type": "gcloud",
   "uri": "gcr.io/deeplearning-platform-release/tf2-gpu.2-1:m49"
  },
  "kernelspec": {
   "display_name": "Python 3",
   "language": "python",
   "name": "python3"
  },
  "language_info": {
   "codemirror_mode": {
    "name": "ipython",
    "version": 3
   },
   "file_extension": ".py",
   "mimetype": "text/x-python",
   "name": "python",
   "nbconvert_exporter": "python",
   "pygments_lexer": "ipython3",
   "version": "3.7.6"
  }
 },
 "nbformat": 4,
 "nbformat_minor": 4
}
