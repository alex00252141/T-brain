{
 "cells": [
  {
   "cell_type": "code",
   "execution_count": 1,
   "metadata": {},
   "outputs": [],
   "source": [
    "%run DataProcessor.ipynb"
   ]
  },
  {
   "cell_type": "code",
   "execution_count": 2,
   "metadata": {},
   "outputs": [
    {
     "name": "stdout",
     "output_type": "stream",
     "text": [
      "[<Blob: tbrain-tsmc, data/YUSUN.zip/YUSUN/textFiles/, 1592736305438990>, <Blob: tbrain-tsmc, data/YUSUN.zip/YUSUN/textFiles/0.txt, 1592736305513587>, <Blob: tbrain-tsmc, data/YUSUN.zip/YUSUN/textFiles/1.txt, 1592736305545232>, <Blob: tbrain-tsmc, data/YUSUN.zip/YUSUN/textFiles/10.txt, 1592736305776176>, <Blob: tbrain-tsmc, data/YUSUN.zip/YUSUN/textFiles/100.txt, 1592736308405726>, <Blob: tbrain-tsmc, data/YUSUN.zip/YUSUN/textFiles/1000.txt, 1592736335848803>, <Blob: tbrain-tsmc, data/YUSUN.zip/YUSUN/textFiles/1001.txt, 1592736456419745>, <Blob: tbrain-tsmc, data/YUSUN.zip/YUSUN/textFiles/1002.txt, 1592736335876369>, <Blob: tbrain-tsmc, data/YUSUN.zip/YUSUN/textFiles/1003.txt, 1592736456454342>, <Blob: tbrain-tsmc, data/YUSUN.zip/YUSUN/textFiles/1004.txt, 1592736335903209>]\n"
     ]
    }
   ],
   "source": [
    "data_processor = DataProcessor()\n",
    "\n",
    "# 顯示存放爬蟲後的文字json所有檔案\n",
    "data_processor.show_files(max_results_=10) #總共N筆數"
   ]
  },
  {
   "cell_type": "code",
   "execution_count": 3,
   "metadata": {},
   "outputs": [
    {
     "data": {
      "text/plain": [
       "{'title': '量化交易追求絕對報酬 有效對抗牛熊市',\n",
       " 'context': '近年來投資市場波動越來越明顯，追求低波動、絕對報酬的量化交易備受注目。專家表示，採用量化交易策略投資台股，不管是處於多頭或是空頭市場，績效及波動度均可領跑大盤，甚至比國內投資台股的股票型基金及 ETF 的波動率還低，表現也更為穩定。\\n大數據時代來臨，風行歐美 50 年的量化交易儼然成為顯學，台灣亦開始重視此一趨勢發展，也因此，中華機率統計學會及台北科技大學管理學院攜手主辦，並由元大期貨、摩根亞太量化交易等公司擔任協辦單位，今 (7/5) 日舉辦「時間序列與量化交易研討會」，就目前熱門的量化交易、智能投資等相關議題進行研討。\\n越來越多的基金公司重視量化交易，全球規模較大的避險基金多採行量化交易，包括橋水基金 (Bridgewater Associates)、AQR 資產管理公司、曼氏集團 (Man Group)、文藝復興科技 (Renaissance Technologies) 等全球知名避險基金。摩根亞太集團董事長張堯勇指出，避險基金規模約為 5 兆美元，採取量化交易的基金規模約 1 兆美元，比重佔了 20%，代表量化交易的操作績效好，才會有那麼高的比重。\\n\\n量化交易的操作績效不亞於價值投資及技術投資，被譽為數學天才、最賺錢的基金經理人，文藝復興對沖基金創始人詹姆斯 · 西蒙斯 (James Simons) 所管理的大獎章 (Medallion) 基金，便是典型的量化交易，績效表現優異，不僅勝過索羅斯的量子基金，也打敗了股神巴菲特的價值投資。\\n近年來台灣也逐漸重視量化交易，摩根亞太量化交易公司今年開始將量化交易引進台股投資，是國內首家推出量化交易策略的公司，初期對象鎖定法人機構，進行私募投資。張堯勇表示，數學不只是一門學科，更是一項扭轉乾坤、轉敗為勝的競爭利器，量化交易就是將數學運用在股市投資，透過複雜、精密的推理計算，打敗股市。\\n他指出，目前全球利率水平 50 位於年來新低，美國十年期公債殖利率只有 2%，日本及一些歐洲國家甚至是負利率。歷史極低利率帶導致無風險及低風險工具的投資報酬率太低（例如：銀行存款、政府公債及投資等級公司債），無法對抗通貨膨脹及支付負債，所以資產配置必須增加較高風險的投資，如股票、高收益公司債或新興市場債券，但是這些投資工具波動很大，而且很容易產生虧損！\\n他表示，長期來說，股市絕對是好的投資，報酬率也不差，但是如何選股是一門學問。目前全球 60 個主要股市交易所，總市值 70 兆美元，而台灣上市上櫃市值 35 兆台幣，面對全球及台灣最大的股市金礦，投資人應該善用「量化交易」這個超級挖礦機，以程式選股來掏金。\\n張堯勇指出，量化投資具有低波動、絕對報酬、優於大盤的三大特點，摩根亞太量化交易模擬台股近 8 年來的績效，結果顯示，運用量化交易的年化報酬率及波動度均優於台股上市櫃指數，以 2011 年金融海嘯及 2018 年中美貿易戰為例，台股上市、上櫃指數均是負報酬，不過，摩根量化交易卻是正報酬，而且波動度也比較低。\\n此外，由於台灣四大政府基金操作績效不彰，不少金融機構也面臨投資虧損問題，亦可透過量化交易提高投資報酬率。張堯勇指出，郵儲、勞退、勞保、及退撫等四大基金，總資產高達 10 兆台幣，但過去 10 年的投資報酬率不到 3%，去年虧損 120 億，面臨提早破產的風險！\\n另外台灣保險公司的總資產高達 26 兆台幣，過去賣出去的保單利率高達 4-6%，但是去年的資產報酬率卻只不到 0.4%，而且去年綜合損益虧損高達 5,000 億！金管會連下三道金牌：所有保險公司今年不準發放現金股利、部分保險公司必須儘快舉辦現金增資、以後賣的保單利率必須下降。另外台灣全體商業銀行也有高達 43 兆的總資產 43 兆，但是其資產報酬率僅只有 0.7%。\\n以上將近 80 兆台幣的資金，張堯勇指出，若將 10% 投資於股市，投資金額高達 8 兆，報酬率每增加 1%，就有 800 億元的獲利，對於台灣的國家財政或金融機構的獲利，都有非常巨大的助益。\\n'}"
      ]
     },
     "execution_count": 3,
     "metadata": {},
     "output_type": "execute_result"
    }
   ],
   "source": [
    "import json\n",
    "content = data_processor.get_blob('data/YUSUN.zip/YUSUN/textFiles/0.txt')\n",
    "#讀取JSON使用\n",
    "d = json.loads(content)\n",
    "d\n",
    "# 讀取CSV使用\n",
    "# df = pd.read_csv(BytesIO(content))"
   ]
  },
  {
   "cell_type": "code",
   "execution_count": 4,
   "metadata": {},
   "outputs": [
    {
     "name": "stdout",
     "output_type": "stream",
     "text": [
      "File ./assert/tbrain_train_final_0610.csv uploaded to data/.\n"
     ]
    }
   ],
   "source": [
    "# source_file_name: 上傳檔案名稱\n",
    "# destination_file_name: 存放 .data/ 檔案名稱\n",
    "# 上傳檔案會放置 gs://tbrain-tsmc/data\n",
    "data_processor.upload_blob(source_file_name='./assert/tbrain_train_final_0610.csv', destination_file_name='tbrain_train_final_0610.csv')"
   ]
  },
  {
   "cell_type": "code",
   "execution_count": 5,
   "metadata": {},
   "outputs": [
    {
     "name": "stdout",
     "output_type": "stream",
     "text": [
      "File data/./assert/tbrain_train_final_0610.csv doesn't exist.\n"
     ]
    }
   ],
   "source": [
    "# source_file_name: 刪除檔案名稱\n",
    "# 刪除此目錄檔案 gs://tbrain-tsmc/data\n",
    "data_processor.delete_file(source_file_name='./assert/tbrain_train_final_0610.csv')"
   ]
  },
  {
   "cell_type": "code",
   "execution_count": 6,
   "metadata": {},
   "outputs": [
    {
     "name": "stdout",
     "output_type": "stream",
     "text": [
      "File data/tbrain_train_final_0610.csv id deleted successfully.\n"
     ]
    }
   ],
   "source": [
    "data_processor.delete_file(source_file_name='tbrain_train_final_0610.csv')"
   ]
  }
 ],
 "metadata": {
  "environment": {
   "name": "tf2-gpu.2-1.m48",
   "type": "gcloud",
   "uri": "gcr.io/deeplearning-platform-release/tf2-gpu.2-1:m48"
  },
  "kernelspec": {
   "display_name": "Python 3",
   "language": "python",
   "name": "python3"
  },
  "language_info": {
   "codemirror_mode": {
    "name": "ipython",
    "version": 3
   },
   "file_extension": ".py",
   "mimetype": "text/x-python",
   "name": "python",
   "nbconvert_exporter": "python",
   "pygments_lexer": "ipython3",
   "version": "3.7.6"
  }
 },
 "nbformat": 4,
 "nbformat_minor": 4
}
