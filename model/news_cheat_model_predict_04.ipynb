{
 "cells": [
  {
   "cell_type": "code",
   "execution_count": 1,
   "metadata": {},
   "outputs": [
    {
     "name": "stderr",
     "output_type": "stream",
     "text": [
      "Using TensorFlow backend.\n"
     ]
    }
   ],
   "source": [
    "import os, re\n",
    "import numpy as np\n",
    "import pandas as pd\n",
    "import keras\n",
    "import keras_bert\n",
    "from keras_bert import load_trained_model_from_checkpoint, Tokenizer\n",
    "from keras.layers import *\n",
    "from keras.models import Model\n",
    "import keras.backend as K\n",
    "from keras.callbacks import Callback\n",
    "from keras.optimizers import Adam"
   ]
  },
  {
   "cell_type": "code",
   "execution_count": 3,
   "metadata": {},
   "outputs": [
    {
     "name": "stderr",
     "output_type": "stream",
     "text": [
      "/opt/virtualenvs/r-tensorflow/lib/python3.5/site-packages/keras/engine/saving.py:292: UserWarning: No training configuration found in save file: the model was *not* compiled. Compile it manually.\n",
      "  warnings.warn('No training configuration found in save file: '\n"
     ]
    }
   ],
   "source": [
    "# 請從google storage下載news_cheat_model_ver_01.h5\n",
    "model = keras.models.load_model( \"/xxxxx/news_cheat_model_ver_04.h5\",\n",
    "                                 custom_objects = keras_bert.get_custom_objects()\n",
    "                               )"
   ]
  },
  {
   "cell_type": "code",
   "execution_count": 3,
   "metadata": {},
   "outputs": [],
   "source": [
    "folderPath      = \"/vocab放置Folder的位置/\"\n",
    "dict_path       = os.path.join( folderPath , \"vocab.txt\"  )"
   ]
  },
  {
   "cell_type": "code",
   "execution_count": 5,
   "metadata": {},
   "outputs": [],
   "source": [
    "token_dict = keras_bert.load_vocabulary(dict_path)\n",
    "tokenizer  = keras_bert.Tokenizer(token_dict)"
   ]
  },
  {
   "cell_type": "code",
   "execution_count": 18,
   "metadata": {},
   "outputs": [],
   "source": [
    "# 底下為詐騙文章，詐騙者:陳瑞芳\n",
    "#text   = \"施柏成,新聞標題：南檢查獲走私中國未檢疫魚貨5千餘公斤 船長貨主等7人收押。文章內容:台南地檢署查獲振瑞發88號漁船涉走私未經檢疫的中國魚貨5000餘公斤進入台南安平港。（記者王俊忠翻攝）〔記者王俊忠／台南報導〕台南地檢署偵辦振瑞發88號漁船涉於今年1月21日走私未經檢疫的中國魚貨5000餘公斤進入台灣安平港，經檢察官將貨主陳澤信、船長陳瑞芳及5名外籍漁工向法院聲請羈押均獲准；潘姓輪機長經檢察官諭知交保2萬元。台南地檢署承辦檢察官王宇承於2018年8月間獲報有漁船走私魚貨情資，即指揮海巡署台南機動查緝隊、嘉義查緝隊、南市刑大、第六警分局成立專案小組，歷經5個多月蒐證，於今年1月21日查獲陳澤信、陳瑞芳及5名中國、印尼籍漁工陳某、順某等駕駛漁船到中國地區領海，以海上接駁方式將中國地區未經檢疫的魚產品紅魽4793公斤、春子魚348公斤，佯裝成自行撈捕的魚貨，從台南安平港入關。檢警專案小組查出此漁船走私約5141公斤的中國地區魚產品入境、當場扣押。經檢察官訊問後，認為陳澤信等人涉犯懲治走私條例、入出國及移民法犯罪嫌疑重大，貨主陳澤信、船長陳瑞芳等人有串證之虞，陳姓等漁工無一定住居所，有逃亡之虞，經向法院聲請羈押均獲准。潘姓輪機長無羈押必要，檢察官諭知交保2萬元，並會深入偵辦此案。南檢襄閱主任檢察官柯怡伶表示，近期非洲豬瘟疫情於境外蔓延，全球聞之色變，且農曆春節將至，年貨、食品需求量大增，價格高漲，南檢對於未經檢疫的走私物品，均嚴加查緝、徹底究辦。籲請民眾返國勿私下夾帶肉製品或走私未經檢疫的農、魚、畜產品入境，以維護國內農、漁、畜牧業及民眾健康。台南地檢署查獲振瑞發88號漁船涉走私未經檢疫的中國魚貨5000餘公斤進入台南安平港。（記者王俊忠翻攝）\"\n",
    "text   = \"施柏成,新聞標題：無。文章內容：Maryan Lim詐騙榮民，遭判刑6年十個月\"\n",
    "tokens = tokenizer.tokenize(text)\n",
    "x1, x2 = tokenizer.encode(first=text , max_len=500)\n",
    "x1 = np.array([x1])\n",
    "x2 = np.array([x2])"
   ]
  },
  {
   "cell_type": "code",
   "execution_count": 49,
   "metadata": {},
   "outputs": [
    {
     "data": {
      "text/plain": [
       "['陳', '瑞', '芳']"
      ]
     },
     "execution_count": 49,
     "metadata": {},
     "output_type": "execute_result"
    }
   ],
   "source": [
    "ps1, ps2 = model.predict( [x1,x2] )\n",
    "startVt , endVt = ps1[0,:,0], ps2[0,:,0]\n",
    "startVt_ , endVt_ = np.where(startVt > 0.5)[0] , np.where(endVt > 0.4)[0] \n",
    "predRole = []\n",
    "\n",
    "if len(startVt_)==0:\n",
    "    # 機率值沒有超過Threshold的話，則取最大作代表(最多一個)\n",
    "    startVt_ = startVt.argmax()\n",
    "    end_     = endVt[startVt_:len(endVt)].argmax() + startVt_\n",
    "    predRole.append(\"\".join( token[startVt_:(end_+1)] ))\n",
    "else:    \n",
    "    for i in startVt_:\n",
    "        j =  endVt_[ endVt_ >= i ]\n",
    "        if len(j) > 0:\n",
    "            j = j[0]\n",
    "            token = tokenizer.tokenize(text)\n",
    "            #predRole.append(\"\".join( token[i:(j+1)] ))\n",
    "            \n",
    "            # 名字全是英文\n",
    "            EngToken = []\n",
    "            if( len( re.findall(u'[^a-z#]', \"\".join( token[i:(j+1)] ) ) )==0 ):\n",
    "              EngToken = []\n",
    "              for tokenUnit in token[i:(j+1)] :\n",
    "                if re.findall(u'##',tokenUnit):\n",
    "                   EngToken[len(EngToken)-1] = EngToken[len(EngToken)-1]+tokenUnit.replace(\"##\",\"\")   \n",
    "                else:\n",
    "                   EngToken.append( tokenUnit )\n",
    "              predRole.append(\" \".join( EngToken ))\n",
    "            else:\n",
    "              predRole.append(\"\".join( token[i:(j+1)] ))\n",
    "\n",
    "            # 名字全是中文字\n",
    "            if( len( re.findall(u'[\\u4e00-\\u9FFF]', \"\".join( token[i:(j+1)] ) ) )==(j-i+1) ):\n",
    "                # 名字全中文且人名超過5個字元就放棄不取，這裡有待 Enhance\n",
    "                if( j - i > 5 ):\n",
    "                    next              \n",
    "                \n",
    "            if(i==1): # 如果最大機率是取到施柏成的\"施\"位置，就不會再取第二個人名\n",
    "                next\n",
    "        \n",
    "np.unique(predRole)    "
   ]
  },
  {
   "cell_type": "code",
   "execution_count": null,
   "metadata": {},
   "outputs": [],
   "source": []
  },
  {
   "cell_type": "code",
   "execution_count": 50,
   "metadata": {},
   "outputs": [],
   "source": [
    "# 底下非詐騙文章，Response:施柏成\n",
    "text = \"施柏成,新聞標題：。文章內容:冠德公司當日重大訊息之詳細內容本資料由　(上市公司)冠德　公司提供序號 1發言日期 108/12/02發言時間 17:01:55發言人 張勝安發言人職稱 副總經理發言人電話 (02)2378-6789主旨 代重要子公司環球購物中心公告會計主管及財務主管異動符合條款第 8款\\t事實發生日 108/12/01說明1.人員變動別（請輸入發言人、代理發言人、重要營運主管(如:執行長、營運長、行銷長及策略長等)、財務主管、會計主管、公司治理主管、研發主管、內部稽核主管或訴訟及非訟代理人）:會計主管及財務主管2.發生變動日期:108/12/013.舊任者姓名、級職及簡歷:陳依華／財務室資深協理4.新任者姓名、級職及簡歷:會計主管:戴嘉伶／財務部經理。財務主管:范姜伯真／總經理室資深經理5.異動情形（請輸入「辭職」、「職務調整」、「資遣」、「退休」、「死亡」、「新任」或「解任」）:職務調整6.異動原因:職務調整7.生效日期:108/12/018.其他應敘明事項:無(1)繼任人選擬於最近一次董事會通過。(2)集團內部職務調整調任至冠德建設股份有限公司。以上資料均由各公司依發言當時所屬市場別之規定申報後，由本系統對外公佈，資料如有虛偽不實，均由該公司負責。\"\n",
    "tokens = tokenizer.tokenize(text)\n",
    "x1, x2 = tokenizer.encode(first=text , max_len=400)\n",
    "x1 = np.array([x1])\n",
    "x2 = np.array([x2])"
   ]
  },
  {
   "cell_type": "code",
   "execution_count": 51,
   "metadata": {},
   "outputs": [
    {
     "data": {
      "text/plain": [
       "['施', '柏', '成']"
      ]
     },
     "execution_count": 51,
     "metadata": {},
     "output_type": "execute_result"
    }
   ],
   "source": [
    "ps1, ps2 = model.predict( [x1,x2] )\n",
    "startVt , endVt = ps1[0,:,0], ps2[0,:,0]\n",
    "startVt_ , endVt_ = np.where(startVt > 0.5)[0] , np.where(endVt > 0.4)[0] \n",
    "predRole = []\n",
    "\n",
    "if len(startVt_)==0:\n",
    "    # 機率值沒有超過Threshold的話，則取最大作代表(最多一個)\n",
    "    startVt_ = startVt.argmax()\n",
    "    end_     = endVt[startVt_:len(endVt)].argmax() + startVt_\n",
    "    predRole.append(\"\".join( token[startVt_:(end_+1)] ))\n",
    "else:    \n",
    "    for i in startVt_:\n",
    "        j =  endVt_[ endVt_ >= i ]\n",
    "        if len(j) > 0:\n",
    "            j = j[0]\n",
    "            token = tokenizer.tokenize(text)\n",
    "            #predRole.append(\"\".join( token[i:(j+1)] ))\n",
    "            \n",
    "            # 名字全是英文\n",
    "            EngToken = []\n",
    "            if( len( re.findall(u'[^a-z#]', \"\".join( token[i:(j+1)] ) ) )==0 ):\n",
    "              EngToken = []\n",
    "              for tokenUnit in token[i:(j+1)] :\n",
    "                if re.findall(u'##',tokenUnit):\n",
    "                   EngToken[len(EngToken)-1] = EngToken[len(EngToken)-1]+tokenUnit.replace(\"##\",\"\")   \n",
    "                else:\n",
    "                   EngToken.append( tokenUnit )\n",
    "              predRole.append(\" \".join( EngToken ))\n",
    "            else:\n",
    "              predRole.append(\"\".join( token[i:(j+1)] ))\n",
    "\n",
    "            # 名字全是中文字\n",
    "            if( len( re.findall(u'[\\u4e00-\\u9FFF]', \"\".join( token[i:(j+1)] ) ) )==(j-i+1) ):\n",
    "                # 名字全中文且人名超過5個字元就放棄不取，這裡有待 Enhance\n",
    "                if( j - i > 5 ):\n",
    "                    next              \n",
    "                \n",
    "            if(i==1): # 如果最大機率是取到施柏成的\"施\"位置，就不會再取第二個人名\n",
    "                next\n",
    "        \n",
    "np.unique(predRole)    "
   ]
  },
  {
   "cell_type": "code",
   "execution_count": null,
   "metadata": {},
   "outputs": [],
   "source": []
  },
  {
   "cell_type": "code",
   "execution_count": null,
   "metadata": {},
   "outputs": [],
   "source": []
  }
 ],
 "metadata": {
  "kernelspec": {
   "display_name": "Python 3",
   "language": "python",
   "name": "python3"
  },
  "language_info": {
   "codemirror_mode": {
    "name": "ipython",
    "version": 3
   },
   "file_extension": ".py",
   "mimetype": "text/x-python",
   "name": "python",
   "nbconvert_exporter": "python",
   "pygments_lexer": "ipython3",
   "version": "3.5.3"
  }
 },
 "nbformat": 4,
 "nbformat_minor": 2
}
