{
 "cells": [
  {
   "cell_type": "code",
   "execution_count": 54,
   "metadata": {},
   "outputs": [],
   "source": [
    "import requests \n",
    "import json "
   ]
  },
  {
   "cell_type": "code",
   "execution_count": 58,
   "metadata": {},
   "outputs": [],
   "source": [
    "data = { \n",
    "    \"esun_uuid\":\"AZE3k4jb456mdX03fvsd==\",\n",
    "    \"esun_timestamp\":1590493614,\n",
    "    \"retry\":2\n",
    "}"
   ]
  },
  {
   "cell_type": "code",
   "execution_count": 59,
   "metadata": {},
   "outputs": [],
   "source": [
    "temp = requests.post(\"http://104.199.204.133:8030/healthcheck\",json = data)"
   ]
  },
  {
   "cell_type": "code",
   "execution_count": 60,
   "metadata": {},
   "outputs": [
    {
     "data": {
      "text/plain": [
       "{'captain_email': 'sammo147@gmail.com',\n",
       " 'esun_uuid': 'AZE3k4jb456mdX03fvsd==',\n",
       " 'server_timestamp': '2020-07-13 09:49:58',\n",
       " 'server_uuid': '8698a393b687f0dc244f9f8807e4418ca168162e7f77d902babf448f0c60789f'}"
      ]
     },
     "execution_count": 60,
     "metadata": {},
     "output_type": "execute_result"
    }
   ],
   "source": [
    "# { \n",
    "#     \"esun_uuid\":\"AZE3k4jb456mdX03fvsd==\",\n",
    "#     \"server_uuid\":\"Rs9$revm32ofjwfs2kgrep==\",\n",
    "#     \"captain_email\":\"my@gmail.com\",\n",
    "#     \"server_timestamp\":1590493615,\n",
    "# }\n",
    "json.loads(temp.text)"
   ]
  },
  {
   "cell_type": "code",
   "execution_count": 61,
   "metadata": {},
   "outputs": [],
   "source": [
    "data = { \n",
    "    \"esun_uuid\":\"AZE3k4jb456mdX03fvsd==\", \n",
    "    \"server_uuid\":\"Rs9$revm32ofjwfs2kgrep==\",\n",
    "    \"esun_timestamp\":1590493849,\n",
    "    \"news\":\"施柏成,新聞標題：貴婦奈奈吸金 小姑也遭通緝。文章內 容:中大特網紅「貴婦奈奈」（本名蘇陳端）及丈夫黃博健、公公黃立雄等人涉嫌捲款10億元潛逃，台北地檢署昨表示，目前全案已有5名被告，除貴婦奈奈、丈夫、公公3人、貴婦奈奈的小姑也就是杏立博全醫美診所會計黃千芳、李姓男員工都在其中，其中黃千芳也已潛逃出境，北檢對她發布通緝。北檢表示，司法互助請求書、通緝書譯本已送至法務部國際及兩岸法律司，透過外交部正式向加拿大司法單位提司法互助，期盼協助緝捕歸案。北檢去年12月曾指揮台北市調查處搜索貴婦奈奈與丈夫經營的杏立博全醫美診所，查扣一批內帳，正進行比對勾稽。為此，北檢檢察長邢泰釗前日召集相關承辦檢察官首度召開專案會議，檢方與檢察事務官、調查局組成專案小組，除全面清查貴婦奈奈一家金流外，並擴大追查有無涉案共犯。此外，有網友在「維基百科」惡搞貴婦奈奈資料，將她改名「賤婦奈奈」，指她知名於「捲款潛逃」，研究領域為「詐騙、假掰裝貴婦（其實是跪婦）」，內容酸度破表。貴婦奈奈北檢貴婦\",\n",
    "    \"retry\":2\n",
    "}"
   ]
  },
  {
   "cell_type": "code",
   "execution_count": 62,
   "metadata": {},
   "outputs": [
    {
     "name": "stdout",
     "output_type": "stream",
     "text": [
      "0:00:07.140760\n"
     ]
    },
    {
     "data": {
      "text/plain": [
       "{'answer': ['蘇陳端', '黃博健', '黃千芳'],\n",
       " 'esun_timestamp': 1590493849,\n",
       " 'esun_uuid': 'AZE3k4jb456mdX03fvsd==',\n",
       " 'server_timestamp': '2020-07-13 09:50:08',\n",
       " 'server_uuid': '5f609fead8e5d1f85363f1cd8e151709441fc3db040e28d1c847ee83c4de2d24'}"
      ]
     },
     "execution_count": 62,
     "metadata": {},
     "output_type": "execute_result"
    }
   ],
   "source": [
    "import datetime\n",
    "import requests\n",
    "T1 = datetime.datetime.now()\n",
    "temp = requests.post(\"http://104.199.204.133:8030/inference\",json = data)\n",
    "print(datetime.datetime.now() - T1)\n",
    "# { \n",
    "#     \"esun_uuid\":\"AZE3k4jb456mdX03fvsd==\",\n",
    "#     \"server_uuid\":\"Rs9$revm32ofsdfs2kgrsd==\",\n",
    "#     \"server_timestamp\":1590493852,\n",
    "#     \"answer\":[\"Danny\",\"Jack\"]\n",
    "# }\n",
    "json.loads(temp.text)"
   ]
  }
 ],
 "metadata": {
  "kernelspec": {
   "display_name": "Python 3",
   "language": "python",
   "name": "python3"
  },
  "language_info": {
   "codemirror_mode": {
    "name": "ipython",
    "version": 3
   },
   "file_extension": ".py",
   "mimetype": "text/x-python",
   "name": "python",
   "nbconvert_exporter": "python",
   "pygments_lexer": "ipython3",
   "version": "3.6.9"
  }
 },
 "nbformat": 4,
 "nbformat_minor": 4
}
