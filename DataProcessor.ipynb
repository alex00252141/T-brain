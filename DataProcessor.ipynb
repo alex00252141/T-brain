{
 "cells": [
  {
   "cell_type": "code",
   "execution_count": 1,
   "metadata": {},
   "outputs": [],
   "source": [
    "from google.cloud import storage\n",
    "from google.cloud.exceptions import NotFound\n",
    "\n",
    "class DataProcessor():\n",
    "    \n",
    "    def __init__(self, bucket_name='tbrain-tsmc', destination_blob_name='data/'):\n",
    "        self.bucket_name = bucket_name\n",
    "        self.destination_blob_name = destination_blob_name\n",
    "        \n",
    "        self.storage_client = storage.Client()\n",
    "        try:\n",
    "            self.storage_client.get_bucket(self.bucket_name)\n",
    "        except NotFound:\n",
    "             print(\"請聯繫Sponsor開通權限!\")\n",
    "                \n",
    "        self.bucket = self.storage_client.bucket(self.bucket_name)\n",
    "        \n",
    "         \n",
    "    def upload_blob(self, source_file_name, destination_file_name):\n",
    "        blob = self.bucket.blob(self.destination_blob_name + destination_file_name)\n",
    "        blob.upload_from_filename(source_file_name)\n",
    "        print(\"File {} uploaded to {}.\".format(source_file_name, self.destination_blob_name))\n",
    "        \n",
    "    def get_blob(self, source_file_name):\n",
    "        blob = storage.Blob(source_file_name, self.bucket)\n",
    "        content = blob.download_as_string()\n",
    "        return content\n",
    "        \n",
    "    def delete_file(self, source_file_name):\n",
    "        d_file = self.destination_blob_name + source_file_name\n",
    "        try:\n",
    "            self.bucket.delete_blob(d_file)\n",
    "            print(\"File {} id deleted successfully.\".format(d_file))\n",
    "        except NotFound:\n",
    "            print(\"File {} doesn't exist.\".format(d_file))\n",
    "        \n",
    "    def show_files(self,max_results_=10, prefix_='data/YUSUN.zip/YUSUN/textFiles/'):\n",
    "        all_blobs = list(self.storage_client.list_blobs(self.bucket,max_results=max_results_, prefix=prefix_))\n",
    "        print(all_blobs)"
   ]
  }
 ],
 "metadata": {
  "environment": {
   "name": "tf2-gpu.2-1.m48",
   "type": "gcloud",
   "uri": "gcr.io/deeplearning-platform-release/tf2-gpu.2-1:m48"
  },
  "kernelspec": {
   "display_name": "Python 3",
   "language": "python",
   "name": "python3"
  },
  "language_info": {
   "codemirror_mode": {
    "name": "ipython",
    "version": 3
   },
   "file_extension": ".py",
   "mimetype": "text/x-python",
   "name": "python",
   "nbconvert_exporter": "python",
   "pygments_lexer": "ipython3",
   "version": "3.7.6"
  }
 },
 "nbformat": 4,
 "nbformat_minor": 4
}
